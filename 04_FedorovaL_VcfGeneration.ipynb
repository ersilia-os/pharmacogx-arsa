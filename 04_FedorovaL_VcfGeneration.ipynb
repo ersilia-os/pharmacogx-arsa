{
 "cells": [
  {
   "cell_type": "code",
   "execution_count": 1,
   "metadata": {},
   "outputs": [],
   "source": [
    "import os\n",
    "import sys\n",
    "import pandas as pd"
   ]
  },
  {
   "cell_type": "code",
   "execution_count": 2,
   "metadata": {},
   "outputs": [],
   "source": [
    "# Import Fedorova ARSA table\n",
    "path = \"/Users/annamontaner/Documents/BSC3/scratch/cli79/cli79334/projects/other/AFR_ARSA_FedorovaL/01_vcf_generation\"\n",
    "imported = pd.read_csv(os.path.join(path,\"input_data\", \"ARSAtableAFR.tsv\"), header=None, sep=\"\\t\",usecols=range(0,15))"
   ]
  },
  {
   "cell_type": "code",
   "execution_count": null,
   "metadata": {},
   "outputs": [],
   "source": [
    "# Check rows and columns of the imported data\n",
    "imported.shape[0]"
   ]
  },
  {
   "cell_type": "code",
   "execution_count": 4,
   "metadata": {},
   "outputs": [],
   "source": [
    "# Copy imported dataframe\n",
    "hg19 = imported.copy()\n",
    "\n",
    "# Add header\n",
    "header = [ 'ID','Simons_AFR','Simons_OTHER1','Simons_OTHER2','Simons_OTHER3','CHROM_hg19','POS_hg19','rsID','REF','ALT','1000Gp3_AFR','1000Gp3_EUR','1000Gp3_EAS','1000Gp3_AMR','1000Gp3_SAS']\n",
    "hg19.columns = header"
   ]
  },
  {
   "cell_type": "code",
   "execution_count": 5,
   "metadata": {},
   "outputs": [],
   "source": [
    "# Build columns required for vcf\n",
    "hg19['QUAL'] = \".\"\n",
    "hg19['FILTER'] = \"NONE\"\n",
    "hg19['INFO'] = 'Simons_AFR='+hg19['Simons_AFR'].astype(str)+\";Simons_OTHER1=\"+hg19['Simons_OTHER1'].astype(str)+\";Simons_OTHER2=\"+hg19['Simons_OTHER2'].astype(str)+\";Simons_OTHER3=\"+hg19['Simons_OTHER3'].astype(str)+\";1000Gp3_AFR=\"+hg19['1000Gp3_AFR'].astype(str)+\";1000Gp3_EUR=\"+hg19['1000Gp3_EUR'].astype(str)+\";1000Gp3_EAS=\"+hg19['1000Gp3_EAS'].astype(str)+\";1000Gp3_AMR=\"+hg19['1000Gp3_AMR'].astype(str)+\";1000Gp3_SAS=\"+hg19['1000Gp3_SAS'].astype(str)"
   ]
  },
  {
   "cell_type": "code",
   "execution_count": 6,
   "metadata": {},
   "outputs": [
    {
     "name": "stderr",
     "output_type": "stream",
     "text": [
      "/var/folders/kt/qf89bw917mg3nhrtrkj4_lmc0000gn/T/ipykernel_11262/3514830366.py:3: SettingWithCopyWarning: \n",
      "A value is trying to be set on a copy of a slice from a DataFrame.\n",
      "Try using .loc[row_indexer,col_indexer] = value instead\n",
      "\n",
      "See the caveats in the documentation: https://pandas.pydata.org/pandas-docs/stable/user_guide/indexing.html#returning-a-view-versus-a-copy\n",
      "  bed_tmp_hg19['CHROM_hg19'] = bed_tmp_hg19['CHROM_hg19'].replace('CHR','chr', regex=True)\n",
      "/var/folders/kt/qf89bw917mg3nhrtrkj4_lmc0000gn/T/ipykernel_11262/3514830366.py:4: SettingWithCopyWarning: \n",
      "A value is trying to be set on a copy of a slice from a DataFrame.\n",
      "Try using .loc[row_indexer,col_indexer] = value instead\n",
      "\n",
      "See the caveats in the documentation: https://pandas.pydata.org/pandas-docs/stable/user_guide/indexing.html#returning-a-view-versus-a-copy\n",
      "  bed_tmp_hg19['POS0_hg19'] = bed_tmp_hg19['POS_hg19'] - 1\n"
     ]
    }
   ],
   "source": [
    "# Generate BED file for coordinate lift-over\n",
    "bed_tmp_hg19 = hg19[['CHROM_hg19','POS_hg19','ID']]\n",
    "bed_tmp_hg19['CHROM_hg19'] = bed_tmp_hg19['CHROM_hg19'].replace('CHR','chr', regex=True)\n",
    "bed_tmp_hg19['POS0_hg19'] = bed_tmp_hg19['POS_hg19'] - 1"
   ]
  },
  {
   "cell_type": "code",
   "execution_count": 7,
   "metadata": {},
   "outputs": [],
   "source": [
    "bed_hg19 = bed_tmp_hg19[['CHROM_hg19','POS0_hg19','POS_hg19','ID']]\n",
    "\n",
    "# Export hg19 BED file \n",
    "bed_hg19.to_csv(os.path.join(path, 'input_data', 'bed_hg19.tsv'), sep=\"\\t\", header=False, index=False)\n"
   ]
  },
  {
   "attachments": {},
   "cell_type": "markdown",
   "metadata": {},
   "source": [
    "This file is uploaded to the UCSC Genome LiftOver Tool"
   ]
  },
  {
   "cell_type": "code",
   "execution_count": 8,
   "metadata": {},
   "outputs": [],
   "source": [
    "# Import hg38 BED file\n",
    "imported_bed_hg38 = pd.read_csv(os.path.join(path, 'input_data', 'bed_hg38.tsv'),sep=\"\\t\")\n",
    "\n",
    "# Select only variants with correct liftover\n",
    "bed_hg38 = imported_bed_hg38[imported_bed_hg38['hg38_liftover']=='ok']"
   ]
  },
  {
   "cell_type": "code",
   "execution_count": 9,
   "metadata": {},
   "outputs": [
    {
     "data": {
      "text/plain": [
       "77820"
      ]
     },
     "execution_count": 9,
     "metadata": {},
     "output_type": "execute_result"
    }
   ],
   "source": [
    "imported_bed_hg38.shape[0]"
   ]
  },
  {
   "cell_type": "code",
   "execution_count": 10,
   "metadata": {},
   "outputs": [
    {
     "data": {
      "text/plain": [
       "77796"
      ]
     },
     "execution_count": 10,
     "metadata": {},
     "output_type": "execute_result"
    }
   ],
   "source": [
    "bed_hg38.shape[0]"
   ]
  },
  {
   "cell_type": "code",
   "execution_count": 13,
   "metadata": {},
   "outputs": [],
   "source": [
    "# Join columns of interest in hg19 dataframe \n",
    "merged_hg38_hg19 = pd.merge(bed_hg38, hg19[['ID','REF','ALT','QUAL','FILTER','INFO']], on='ID')\n",
    "merged_hg38_hg19['#CHROM'] = merged_hg38_hg19['#CHROM'].replace('chr','',regex=True)\n"
   ]
  },
  {
   "cell_type": "code",
   "execution_count": 14,
   "metadata": {},
   "outputs": [],
   "source": [
    "# Generate ARSA AFR .tsv for hg38\n",
    "ARSAtableAFR_hg38 = merged_hg38_hg19[['#CHROM','POS','ID','REF','ALT','QUAL','FILTER','INFO']]"
   ]
  },
  {
   "cell_type": "code",
   "execution_count": 15,
   "metadata": {},
   "outputs": [],
   "source": [
    "# Sort values\n",
    "ARSAtableAFR_hg38_sorted = ARSAtableAFR_hg38.sort_values(by=['#CHROM', 'POS'], key=lambda x: x.astype(int))"
   ]
  },
  {
   "cell_type": "code",
   "execution_count": 16,
   "metadata": {},
   "outputs": [],
   "source": [
    "# Export data\n",
    "ARSAtableAFR_hg38_sorted.to_csv(os.path.join(path, 'output_data', 'ARSAtableAFR_hg38_sorted.tsv'),sep=\"\\t\", index=False)"
   ]
  },
  {
   "cell_type": "code",
   "execution_count": 17,
   "metadata": {},
   "outputs": [],
   "source": [
    "#### Generate vcf for SnpEff annotation\n",
    "output_VCF = os.path.join(path,\"output_data\",\"ARSAtableAFR_hg38_sorted.vcf\")\n",
    "input_TSV = os.path.join(path,\"output_data\",\"ARSAtableAFR_hg38_sorted.tsv\")\n",
    "I = open(input_TSV, \"r\")\n",
    "O = open(output_VCF, \"w\")\n",
    "\n",
    "O.write(\"##fileformat=VCFv4.0\\n\")\n",
    "O.write(\"##FILTER=<ID=ID,Number=1,Type=String,Description=\\\"dbSnp id\\\">\\n\")\n",
    "O.write(\"##INFO=<ID=Simons_AFR,Number=A,Type=Integer,Description=\\\"Number of counts in African populations in the Simon's dataset\\\">\\n\")\n",
    "O.write(\"##INFO=<ID=Simons_OTHER1,Number=A,Type=Integer,Description=\\\"Number of counts in other population (1) in the Simon's dataset\\\">\\n\")\n",
    "O.write(\"##INFO=<ID=Simons_OTHER2,Number=A,Type=Integer,Description=\\\"Number of counts in other population (2) in the Simon's dataset\\\">\\n\")\n",
    "O.write(\"##INFO=<ID=Simons_OTHER3,Number=A,Type=Integer,Description=\\\"Number of counts in other population (3) in the Simon's dataset\\\">\\n\")\n",
    "O.write(\"##INFO=<ID=1000Gp3_AFR,Number=A,Type=Integer,Description=\\\"Number of counts in African populations in the 1000Genomes phase3 dataset\\\">\\n\")\n",
    "O.write(\"##INFO=<ID=1000Gp3_EUR,Number=A,Type=Integer,Description=\\\"Number of counts in European populations in the 1000Genomes phase3 dataset\\\">\\n\")\n",
    "O.write(\"##INFO=<ID=1000Gp3_EAS,Number=A,Type=Integer,Description=\\\"Number of counts in East Asian populations in the 1000Genomes phase3 dataset\\\">\\n\")\n",
    "O.write(\"##INFO=<ID=1000Gp3_AMR,Number=A,Type=Integer,Description=\\\"Number of counts in American populations in the 1000Genomes phase3 dataset\\\">\\n\")\n",
    "O.write(\"##INFO=<ID=1000Gp3_SAS,Number=A,Type=Integer,Description=\\\"Number of counts in South Asian populations in the 1000Genomes phase3 dataset\\\">\\n\")\n",
    "O.write(\"##FORMAT=<ID=NO,Number=1,Type=String,Description=\\\"Not used\\\">\\n\")\n",
    "\n",
    "for iLine in I:\n",
    "\tlist = iLine.split(\"\\t\")\n",
    "\tnewLine = '\\t'.join(list)\n",
    "\tO.write(newLine)\n",
    "\n",
    "I.close()\n",
    "O.close()"
   ]
  },
  {
   "cell_type": "code",
   "execution_count": null,
   "metadata": {},
   "outputs": [],
   "source": [
    "# Copy resultant file to AFR_ARSA_FedorovaL/02_snpEff_annotation/input_data for snpEff annotation"
   ]
  }
 ],
 "metadata": {
  "kernelspec": {
   "display_name": "ersilia",
   "language": "python",
   "name": "python3"
  },
  "language_info": {
   "codemirror_mode": {
    "name": "ipython",
    "version": 3
   },
   "file_extension": ".py",
   "mimetype": "text/x-python",
   "name": "python",
   "nbconvert_exporter": "python",
   "pygments_lexer": "ipython3",
   "version": "3.10.8"
  },
  "orig_nbformat": 4
 },
 "nbformat": 4,
 "nbformat_minor": 2
}
