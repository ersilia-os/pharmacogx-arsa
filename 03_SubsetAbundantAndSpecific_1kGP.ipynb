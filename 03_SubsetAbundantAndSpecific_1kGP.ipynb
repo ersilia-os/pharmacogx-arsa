{
 "cells": [
  {
   "cell_type": "markdown",
   "metadata": {},
   "source": [
    "# Get the subset of African Abundant and African Specific variants from 1000 Genomes\n",
    "\n",
    "In this notebook we simply extract African Abundant (AF >= 20%) and African Specific (AF >= 20%, OR >= 8x) variants."
   ]
  },
  {
   "cell_type": "code",
   "execution_count": 8,
   "metadata": {},
   "outputs": [
    {
     "name": "stdout",
     "output_type": "stream",
     "text": [
      "['SAMPLE', 'CHROM', 'POS', 'REF', 'ALT', 'ANN[*].GENE', 'ANN[*].GENEID', 'ANN[*].FEATURE', 'ANN[*].FEATUREID', 'ANN[*].BIOTYPE', 'ANN[*].EFFECT', 'ANN[*].IMPACT', 'ANN[*].RANK', 'ANN[*].HGVS_C', 'ANN[*].HGVS_P', 'ANN[*].CDNA_POS', 'ANN[*].CDNA_LEN', 'ANN[*].CDS_POS', 'ANN[*].CDS_LEN', 'ANN[*].AA_POS', 'ANN[*].AA_LEN', 'ANN[*].DISTANCE', 'ANN[*].ALLELE', 'ANN[*].ERRORS', 'ID', 'AF', 'AC', 'NS', 'AN', 'EAS_AF', 'EUR_AF', 'AFR_AF', 'AMR_AF', 'SAS_AF', 'dbNSFP_gnomAD_exomes_AC', 'dbNSFP_gnomAD_exomes_AN', 'dbNSFP_gnomAD_exomes_AF', 'dbNSFP_gnomAD_exomes_POPMAX_AC', 'dbNSFP_gnomAD_exomes_POPMAX_AN', 'dbNSFP_gnomAD_exomes_POPMAX_AF', 'dbNSFP_gnomAD_exomes_AFR_AC', 'dbNSFP_gnomAD_exomes_AFR_AN', 'dbNSFP_gnomAD_exomes_AFR_AF', 'dbNSFP_gnomAD_exomes_NFE_AC', 'dbNSFP_gnomAD_exomes_NFE_AN', 'dbNSFP_gnomAD_exomes_NFE_AF', 'dbNSFP_gnomAD_exomes_AMR_AC', 'dbNSFP_gnomAD_exomes_AMR_AN', 'dbNSFP_gnomAD_exomes_AMR_AF', 'dbNSFP_gnomAD_exomes_ASJ_AC', 'dbNSFP_gnomAD_exomes_ASJ_AN', 'dbNSFP_gnomAD_exomes_ASJ_AF', 'dbNSFP_gnomAD_exomes_EAS_AC', 'dbNSFP_gnomAD_exomes_EAS_AN', 'dbNSFP_gnomAD_exomes_EAS_AF', 'dbNSFP_gnomAD_exomes_FIN_AC', 'dbNSFP_gnomAD_exomes_FIN_AN', 'dbNSFP_gnomAD_exomes_FIN_AF', 'dbNSFP_gnomAD_exomes_SAS_AC', 'dbNSFP_gnomAD_exomes_SAS_AN', 'dbNSFP_gnomAD_exomes_SAS_AF', 'dbNSFP_gnomAD_genomes_AC', 'dbNSFP_gnomAD_genomes_AN', 'dbNSFP_gnomAD_genomes_AF', 'dbNSFP_gnomAD_genomes_POPMAX_AC', 'dbNSFP_gnomAD_genomes_POPMAX_AN', 'dbNSFP_gnomAD_genomes_POPMAX_AF', 'dbNSFP_gnomAD_genomes_AFR_AC', 'dbNSFP_gnomAD_genomes_AFR_AN', 'dbNSFP_gnomAD_genomes_AFR_AF', 'dbNSFP_gnomAD_genomes_NFE_AN', 'dbNSFP_gnomAD_genomes_NFE_AC', 'dbNSFP_gnomAD_genomes_NFE_AF', 'dbNSFP_gnomAD_genomes_AMI_AC', 'dbNSFP_gnomAD_genomes_AMI_AN', 'dbNSFP_gnomAD_genomes_AMI_AF', 'dbNSFP_gnomAD_genomes_AMR_AC', 'dbNSFP_gnomAD_genomes_AMR_AN', 'dbNSFP_gnomAD_genomes_AMR_AF', 'dbNSFP_gnomAD_genomes_ASJ_AC', 'dbNSFP_gnomAD_genomes_ASJ_AN', 'dbNSFP_gnomAD_genomes_ASJ_AF', 'dbNSFP_gnomAD_genomes_EAS_AC', 'dbNSFP_gnomAD_genomes_EAS_AN', 'dbNSFP_gnomAD_genomes_EAS_AF', 'dbNSFP_gnomAD_genomes_FIN_AN', 'dbNSFP_gnomAD_genomes_FIN_AF', 'dbNSFP_gnomAD_genomes_MID_AC', 'dbNSFP_gnomAD_genomes_MID_AN', 'dbNSFP_gnomAD_genomes_MID_AF', 'dbNSFP_gnomAD_genomes_SAS_AC', 'dbNSFP_gnomAD_genomes_SAS_AN', 'dbNSFP_gnomAD_genomes_SAS_AF', 'dbNSFP_1000Gp3_AC', 'dbNSFP_1000Gp3_AF', 'dbNSFP_1000Gp3_AFR_AC', 'dbNSFP_1000Gp3_AFR_AF', 'dbNSFP_1000Gp3_AMR_AC', 'dbNSFP_1000Gp3_AMR_AF', 'dbNSFP_1000Gp3_EAS_AC', 'dbNSFP_1000Gp3_EAS_AF', 'dbNSFP_1000Gp3_EUR_AC', 'dbNSFP_1000Gp3_EUR_AF', 'dbNSFP_1000Gp3_SAS_AC', 'dbNSFP_1000Gp3_SAS_AF', 'dbNSFP_ESP6500_AA_AC', 'dbNSFP_ESP6500_AA_AF', 'dbNSFP_ESP6500_EA_AC', 'dbNSFP_ESP6500_EA_AF', 'dbNSFP_ExAC_AC', 'dbNSFP_ExAC_AF', 'dbNSFP_ExAC_Adj_AC', 'dbNSFP_ExAC_Adj_AF', 'dbNSFP_ExAC_AFR_AC', 'dbNSFP_ExAC_AFR_AF', 'dbNSFP_ExAC_AMR_AC', 'dbNSFP_ExAC_AMR_AF', 'dbNSFP_ExAC_EAS_AC', 'dbNSFP_ExAC_EAS_AF', 'dbNSFP_ExAC_FIN_AC', 'dbNSFP_ExAC_FIN_AF', 'dbNSFP_ExAC_NFE_AC', 'dbNSFP_ExAC_NFE_AF', 'dbNSFP_ExAC_SAS_AC', 'dbNSFP_ExAC_SAS_AF', 'dbNSFP_CADD_phred', 'dbNSFP_Polyphen2_HDIV_score', 'dbNSFP_Polyphen2_HDIV_pred', 'dbNSFP_SIFT_score', 'dbNSFP_SIFT_pred', 'dbNSFP_MutationAssessor_score', 'dbNSFP_MutationAssessor_pred', 'dbNSFP_MutationTaster_score', 'dbNSFP_MutationTaster_pred', 'dbNSFP_PROVEAN_pred', 'dbNSFP_VEST4_score', 'dbNSFP_clinvar_id', 'dbNSFP_clinvar_clnsig', 'dbNSFP_clinvar_trait', 'dbNSFP_clinvar_review', 'dbNSFP_clinvar_MedGen_id', 'dbNSFP_clinvar_OMIM_id', 'dbNSFP_clinvar_Orphanet_id', 'dbNSFP_Interpro_domain']\n"
     ]
    },
    {
     "name": "stderr",
     "output_type": "stream",
     "text": [
      "32577572it [02:43, 199749.37it/s]\n"
     ]
    }
   ],
   "source": [
    "import csv\n",
    "import numpy as np\n",
    "from tqdm import tqdm\n",
    "import os\n",
    "\n",
    "ABUNDANCE_PROPORTION = 0.2\n",
    "SPECIFICITY_OVERREPRESENTATION = 8\n",
    "\n",
    "# Define the result folder path\n",
    "result_folder = 'results'\n",
    "\n",
    "file_path = 'subset_snvs_protein_coding_1kGPhg38.tsv'\n",
    "\n",
    "# Columns\n",
    "AFRICAN_AF = 'AFR_AF'\n",
    "OTHER_AF = ['EAS_AF', 'EUR_AF', 'AMR_AF', 'SAS_AF']\n",
    "\n",
    "# Read the file\n",
    "R = []\n",
    "with open(file_path, 'r') as file:\n",
    "    reader = csv.reader(file, delimiter='\\t')\n",
    "    header = next(reader)\n",
    "    print(header)\n",
    "    afr_af_idx = header.index(AFRICAN_AF)\n",
    "    other_af_idx = [header.index(o) for o in OTHER_AF]\n",
    "    for i, r in tqdm(enumerate(reader)):\n",
    "        afr_af = float(r[afr_af_idx])\n",
    "        if afr_af < ABUNDANCE_PROPORTION:\n",
    "            continue\n",
    "        other_af = max(np.max([float(r[o]) for o in other_af_idx]), 1e-8)\n",
    "        overrepresenation = afr_af / other_af\n",
    "        is_abundant = 1\n",
    "        if overrepresenation >= SPECIFICITY_OVERREPRESENTATION:\n",
    "            is_specific = 1\n",
    "        else:\n",
    "            is_specific = 0\n",
    "        R += [r + [is_abundant, is_specific]]\n",
    "\n",
    "# Create the result folder if it doesn't exist\n",
    "if not os.path.exists(result_folder):\n",
    "    os.makedirs(result_folder)\n",
    "\n",
    "# Define the result file path\n",
    "result_file_path = os.path.join(result_folder, 'subset_snvs_protein_coding_1kGPhg38_afr_abundant_specific.tsv')\n",
    "\n",
    "# Write the file with the additional columns\n",
    "with open(result_file_path, 'w') as file:\n",
    "    writer = csv.writer(file, delimiter='\\t')\n",
    "    writer.writerow(header + ['IS_ARF_ABUNDANT', 'IS_AFR_SPECIFIC'])\n",
    "    writer.writerows(R)\n",
    "\n"
   ]
  }
 ],
 "metadata": {
  "kernelspec": {
   "display_name": "Python 3",
   "language": "python",
   "name": "python3"
  },
  "language_info": {
   "codemirror_mode": {
    "name": "ipython",
    "version": 3
   },
   "file_extension": ".py",
   "mimetype": "text/x-python",
   "name": "python",
   "nbconvert_exporter": "python",
   "pygments_lexer": "ipython3",
   "version": "3.10.10"
  }
 },
 "nbformat": 4,
 "nbformat_minor": 2
}
