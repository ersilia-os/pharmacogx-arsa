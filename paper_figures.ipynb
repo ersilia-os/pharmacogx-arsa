{
 "cells": [
  {
   "cell_type": "code",
   "execution_count": 2,
   "metadata": {},
   "outputs": [],
   "source": [
    "import os\n",
    "import pandas as pd"
   ]
  },
  {
   "cell_type": "code",
   "execution_count": 4,
   "metadata": {},
   "outputs": [],
   "source": [
    "data = pd.read_csv('subset_snvs_protein_coding_1kGPhg38.tsv/subset_snvs_protein_coding_1kGPhg38.tsv', sep='\\t', low_memory=False)"
   ]
  },
  {
   "cell_type": "code",
   "execution_count": 7,
   "metadata": {},
   "outputs": [
    {
     "data": {
      "image/png": "[encoded data removed]",
      "text/plain": [
       "<Figure size 709x212.7 with 3 Axes>"
      ]
     },
     "metadata": {},
     "output_type": "display_data"
    }
   ],
   "source": [
    "import stylia as st\n",
    "from stylia import NamedColors, ContinuousColorMap, ONE_COLUMN_WIDTH, TWO_COLUMNS_WIDTH\n",
    "\n",
    "colors = NamedColors()\n",
    "red = colors.get(\"red\")\n",
    "blue = colors.get(\"blue\")\n",
    "purple = colors.get(\"purple\")\n",
    "yellow = colors.get(\"yellow\")\n",
    "green = colors.get(\"green\")\n",
    "orange = colors.get(\"orange\")\n",
    "gray = colors.get(\"gray\")\n",
    "\n",
    "\n",
    "african_abundant1 = data[data['AFR_AF']>=0.2]\n",
    "\n",
    "\n",
    "fig, axs = st.create_figure(1,3, width=TWO_COLUMNS_WIDTH, height=TWO_COLUMNS_WIDTH*0.3)\n",
    "ax = axs.next()\n",
    "st.label(ax, xlabel=\"AFR AF\", ylabel=\"Counts\", title=\"\")\n",
    "ax.hist(data['AFR_AF'], bins=10, color=orange, alpha=0.7)\n",
    "ax.set_xlim(-0.05,1.05)\n",
    "ax = axs.next()\n",
    "st.label(ax, xlabel=\"AFR AF\", title=\"\")\n",
    "ax.set_xlim(-0.05,1.05)\n",
    "ax.hist(african_abundant1['AFR_AF'], bins=10, color=yellow, alpha=0.7)\n",
    "ax = axs.next()\n",
    "st.label(ax, xlabel=\"AFR AF\", title=\"\")\n",
    "ax.set_xlim(-0.05,1.05)"
   ]
  },
  {
   "cell_type": "code",
   "execution_count": null,
   "metadata": {},
   "outputs": [],
   "source": [
    "plt.hist(african_abundant1['AFR_AF'], bins=10, color='#C5E0B4', alpha=0.7)\n",
    "\n",
    "#plt.ylim(0,20000)\n",
    "plt.xlim(-0.05,1.05)\n",
    "\n",
    "# Add labels and a title\n",
    "plt.xlabel('AFR AF')\n",
    "plt.ylabel('Counts')\n",
    "#plt.title('Abundant in the African superpopulation')\n",
    "\n",
    "# Add a label to the plot\n",
    "label_x = 0.72  # X-coordinate for the label\n",
    "label_y = 28000   # Y-coordinate for the label\n",
    "label_text = \"Total SNVs: \" + str(african_abundant1.shape[0])\n",
    "#plt.text(label_x, label_y, label_text, fontsize=10, color='black')\n",
    "\n",
    "\n",
    "# Display the histogram\n",
    "plt.show()"
   ]
  }
 ],
 "metadata": {
  "kernelspec": {
   "display_name": "chem",
   "language": "python",
   "name": "python3"
  },
  "language_info": {
   "codemirror_mode": {
    "name": "ipython",
    "version": 3
   },
   "file_extension": ".py",
   "mimetype": "text/x-python",
   "name": "python",
   "nbconvert_exporter": "python",
   "pygments_lexer": "ipython3",
   "version": "3.11.8"
  }
 },
 "nbformat": 4,
 "nbformat_minor": 2
}
