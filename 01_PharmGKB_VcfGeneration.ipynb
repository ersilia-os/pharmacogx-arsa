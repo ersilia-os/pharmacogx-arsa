{
 "cells": [
  {
   "attachments": {},
   "cell_type": "markdown",
   "metadata": {},
   "source": [
    "## Preparing Variants from PharmGKB for variant annotation\n"
   ]
  },
  {
   "attachments": {},
   "cell_type": "markdown",
   "metadata": {},
   "source": [
    "#### Import libraries"
   ]
  },
  {
   "cell_type": "code",
   "execution_count": null,
   "metadata": {},
   "outputs": [],
   "source": [
    "import os\n",
    "import sys\n",
    "import pandas as pd\n",
    "import nbconvert"
   ]
  },
  {
   "attachments": {},
   "cell_type": "markdown",
   "metadata": {},
   "source": [
    "#### Import data"
   ]
  },
  {
   "cell_type": "code",
   "execution_count": null,
   "metadata": {},
   "outputs": [],
   "source": [
    "# Import data\n",
    "path = \"/Users/annamontaner/Documents/BSC3/scratch/cli79/cli79334/projects/other/pharmGKB/01_vcf_generation\"\n",
    "vars = pd.read_csv(os.path.join(path,\"input_data\", \"variant_assembly.csv\"), header=0)"
   ]
  },
  {
   "cell_type": "code",
   "execution_count": null,
   "metadata": {},
   "outputs": [],
   "source": [
    "# Check data types\n",
    "vars.dtypes"
   ]
  },
  {
   "cell_type": "code",
   "execution_count": null,
   "metadata": {},
   "outputs": [],
   "source": [
    "# Check how many rows...\n",
    "print(\"Total rows: \", len(vars))\n",
    "print(\"Gene missing: \", len(vars[vars[\"gid\"].isna()]))\n",
    "print(\"Assembly missing: \", len(vars[vars[\"assembly\"].isna()]))\n",
    "print(\"Begin missing: \", len(vars[vars[\"begin\"].isna()]))\n",
    "print(\"Ref Allele missing: \", len(vars[vars[\"ref_allele\"].isna()]))\n",
    "print(\"Var Allele missing: \", len(vars[vars[\"var_allele\"].isna()]))"
   ]
  },
  {
   "attachments": {},
   "cell_type": "markdown",
   "metadata": {},
   "source": [
    "#### Clean data"
   ]
  },
  {
   "cell_type": "code",
   "execution_count": null,
   "metadata": {},
   "outputs": [],
   "source": [
    "# Remove rows for which reference or alternative alleles are not available\n",
    "vars = vars[~vars[\"ref_allele\"].isna()]\n",
    "vars = vars[~vars[\"var_allele\"].isna()]\n",
    "print(len(vars))"
   ]
  },
  {
   "cell_type": "code",
   "execution_count": null,
   "metadata": {},
   "outputs": [],
   "source": [
    "# Remove rows with \"-\"\" instead of A/C/G/T\n",
    "vars = vars[~(vars[\"ref_allele\"]==\"-\")]\n",
    "vars = vars[~(vars[\"var_allele\"]==\"-\")]\n",
    "print(len(vars))"
   ]
  },
  {
   "cell_type": "code",
   "execution_count": null,
   "metadata": {},
   "outputs": [],
   "source": [
    "print(len(vars[vars[\"var_hgvs\"].isna()]))"
   ]
  },
  {
   "cell_type": "code",
   "execution_count": null,
   "metadata": {},
   "outputs": [],
   "source": [
    "# a) use ref and alt alleles' length \n",
    "snvs_tmp = vars[vars['ref_allele'].str.len() == vars['var_allele'].str.len()]\n",
    "\n",
    "# b) remove variants containing characters other than A/C/G/T\n",
    "allowed_values = ['A', 'C', 'G', 'T']\n",
    "snvs = snvs_tmp[snvs_tmp['ref_allele'].str.match(f'^({\"|\".join(allowed_values)})$') &\n",
    "               snvs_tmp['var_allele'].str.match(f'^({\"|\".join(allowed_values)})$')]\n",
    "\n",
    "\"\"\"\n",
    "Some single-nucleotide changes don't have a proper var_hgvs annotation so\n",
    "it's better to use the nucleotide length of reference and alt alleles instead.\n",
    "E.g. \n",
    "12441\tPA166161042\trs78365220\tG6PD\tPA28469\tGRCh38\t154535270.0\t154535270.0\t0.0\tA\tNC_000023.11:g.154535270=\tC\tNaN\t[GRCh38]chrX\n",
    "9934\tPA166157504\trs72552784\tABCB1\tPA267\tGRCh38\t87516598.0\t87516598.0\t0.0\tC\tNC_000007.14:g.87516598=\tA\tNC_000006.12:g.160139851_160139853del\t[GRCh38]chr7\tleft_only\n",
    "\"\"\""
   ]
  },
  {
   "cell_type": "code",
   "execution_count": null,
   "metadata": {},
   "outputs": [],
   "source": [
    "print(\"Rows vars: \", len(vars))\n",
    "print(\"Rows snvs_tmp: \", len(snvs_tmp))\n",
    "print(\"Rows snvs: \", len(snvs))"
   ]
  },
  {
   "cell_type": "code",
   "execution_count": null,
   "metadata": {},
   "outputs": [],
   "source": [
    "# Check variant types in snvs dataframe\n",
    "print('Ref allele types: ',snvs['ref_allele'].unique())\n",
    "print('Var allele types: ',snvs['var_allele'].unique())"
   ]
  },
  {
   "cell_type": "code",
   "execution_count": null,
   "metadata": {},
   "outputs": [],
   "source": [
    "# Change some column types\n",
    "snvs['begin'] = snvs['begin'].astype(\"int\")\n",
    "snvs['chr'] = snvs['chr'].astype(\"str\")\n",
    "snvs['chr'] = snvs['chr'].str.split(\"]\").str[1].str.replace(\"chr\",\"\")"
   ]
  },
  {
   "cell_type": "code",
   "execution_count": null,
   "metadata": {},
   "outputs": [],
   "source": [
    "# Build final dataframe\n",
    "df_tmp=snvs.copy()\n",
    "df_tmp = df_tmp.fillna(\".\")"
   ]
  },
  {
   "cell_type": "code",
   "execution_count": null,
   "metadata": {},
   "outputs": [],
   "source": [
    "# Build non-existent columns\n",
    "df_tmp['ID'] = \".\"\n",
    "df_tmp['QUAL'] = \".\"\n",
    "df_tmp['FILTER'] = \"NONE\"\n",
    "\n",
    "# Build info column\n",
    "info = \"PGKBVID=\"+df_tmp[\"vid\"]+\";RSID=\"+df_tmp['variant']+\";GENE=\"+df_tmp['gene']+\";PGKBGID=\"+df_tmp['gid']+\";HGVS=\"+df_tmp['var_hgvs']\n",
    "df_tmp['INFO'] = info"
   ]
  },
  {
   "cell_type": "code",
   "execution_count": null,
   "metadata": {},
   "outputs": [],
   "source": [
    "# Rename columns \n",
    "df_tmp.rename(columns={\"chr\":\"#CHROM\", \"ref_allele\": \"REF\", \"var_allele\": \"ALT\", \"begin\": \"POS\"}, inplace = True)"
   ]
  },
  {
   "cell_type": "code",
   "execution_count": null,
   "metadata": {},
   "outputs": [],
   "source": [
    "# Reorder columns\n",
    "df = df_tmp[[\"#CHROM\", \"POS\", \"ID\", \"REF\", \"ALT\", \"QUAL\", \"FILTER\", \"INFO\"]].sort_values(by=['#CHROM','POS'])"
   ]
  },
  {
   "cell_type": "code",
   "execution_count": null,
   "metadata": {},
   "outputs": [],
   "source": [
    "print(\"Number of variants in unfiltered PharmGKB dataframe: \",len(~vars['begin'].isna()))\n",
    "print(\"Unique positions in unfiltered PharmGKB dataframe: \",len(vars['begin'].unique()))\n",
    "print(\"Number of variants in filtered PharmGKB dataframe: \",len(~df['POS'].isna()))\n",
    "print(\"Unique positions in filtered PharmGKB dataframe: \",len(df['POS'].unique()))"
   ]
  },
  {
   "cell_type": "code",
   "execution_count": null,
   "metadata": {},
   "outputs": [],
   "source": [
    "# Export final .tsv\n",
    "df.to_csv(os.path.join(path,\"output_data\",\"variant_assembly_auto.tsv\"), sep=\"\\t\", header=True, index=False)"
   ]
  },
  {
   "cell_type": "code",
   "execution_count": null,
   "metadata": {},
   "outputs": [],
   "source": [
    "# Add header and export .csv\n",
    "output_VCF = os.path.join(path,\"output_data\",\"variant_assembly_auto.vcf\")\n",
    "input_TSV = os.path.join(path,\"output_data\",\"variant_assembly_auto.tsv\")\n",
    "I = open(input_TSV, \"r\")\n",
    "O = open(output_VCF, \"w\")\n",
    "\n",
    "O.write(\"##fileformat=VCFv4.0\\n\")\n",
    "O.write(\"##FILTER=<ID=NONE,Description=\\\"Not used\\\">\\n\")\n",
    "O.write(\"##INFO=<ID=PGKBVID,Number=1,Type=String,Description=\\\"PharmGKB variant id\\\">\\n\")\n",
    "O.write(\"##INFO=<ID=RSID,Number=1,Type=String,Description=\\\"dbSnp id\\\">\\n\")\n",
    "O.write(\"##INFO=<ID=GENE,Number=1,Type=String,Description=\\\"Gene name\\\">\\n\")\n",
    "O.write(\"##INFO=<ID=PGKBGID,Number=1,Type=String,Description=\\\"PharmGKB gene id\\\">\\n\")\n",
    "O.write(\"##INFO=<ID=HGVS,Number=1,Type=String,Description=\\\"HGVS id\\\">\\n\")\n",
    "O.write(\"##FORMAT=<ID=NO,Number=1,Type=String,Description=\\\"Not used\\\">\\n\")\n",
    "\n",
    "for iLine in I:\n",
    "\tlist = iLine.split(\"\\t\")\n",
    "\tnewLine = '\\t'.join(list)\n",
    "\tO.write(newLine)\n",
    "\n",
    "I.close()\n",
    "O.close()"
   ]
  }
 ],
 "metadata": {
  "kernelspec": {
   "display_name": "pgx",
   "language": "python",
   "name": "python3"
  },
  "language_info": {
   "codemirror_mode": {
    "name": "ipython",
    "version": 3
   },
   "file_extension": ".py",
   "mimetype": "text/x-python",
   "name": "python",
   "nbconvert_exporter": "python",
   "pygments_lexer": "ipython3",
   "version": "3.10.8"
  },
  "orig_nbformat": 4
 },
 "nbformat": 4,
 "nbformat_minor": 2
}
